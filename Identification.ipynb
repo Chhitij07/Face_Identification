{
 "cells": [
  {
   "cell_type": "code",
   "execution_count": 2,
   "metadata": {},
   "outputs": [],
   "source": [
    "import numpy as np\n",
    "import cv2\n",
    "from keras.models import load_model\n",
    "model = load_model('chhitij_detector.h5')\n",
    "from PIL import Image\n",
    "face_cascade = cv2.CascadeClassifier('haarcascade_frontalface_default.xml')\n",
    "\n",
    "font = cv2.FONT_HERSHEY_SIMPLEX\n",
    "cap=cv2.VideoCapture(0)\n",
    "count=0\n",
    "key = cv2.waitKey(1) & 0xFF\n",
    "    \n",
    "while True:\n",
    "    ret, image=cap.read()\n",
    "    if ret==True:\n",
    "        gray = cv2.cvtColor(image, cv2.COLOR_BGR2GRAY)\n",
    "    \n",
    "        faces = face_cascade.detectMultiScale(gray, 1.1, 5)\n",
    "    \n",
    "        for (x,y,w,h) in faces:\n",
    "            cv2.rectangle(image,(x,y),(x+w,y+h),(255,0,0),5)\n",
    "            roi_gray = gray[y:y+h, x:x+w]\n",
    "            roi_color = image[y:y+h, x:x+w]\n",
    "        \n",
    "        count=count+1;\n",
    "        cv2.imwrite(\"image.png\",roi_color)\n",
    "        img = Image.open(\"image.png\").convert(\"L\")\n",
    "        img = img.resize((300,900))\n",
    "        im2arr = np.array(img)\n",
    "        im2arr = im2arr.reshape(1,300,300,3)\n",
    "        im2arr=im2arr/255\n",
    "        \n",
    "        y_pred = model.predict(im2arr)\n",
    "        #print(y_pred)\n",
    "        if y_pred<0.1:\n",
    "            y_pred=\"Chhitij\"\n",
    "        else:\n",
    "            y_pred=\"Not Chhitij\"+str(y_pred)\n",
    "        cv2.putText(image, str(y_pred), (230, 50), font, 0.8, (0, 255, 0), 2, cv2.LINE_AA)\n",
    "        cv2.imshow(\"image\",image)\n",
    "        key = cv2.waitKey(1) & 0xFF\n",
    "        if key == ord(\"q\"):\n",
    "            cv2.destroyAllWindows()\n",
    "            cap.release()\n",
    "            break\n",
    "    else:\n",
    "        if key == ord(\"q\"):\n",
    "            cv2.destroyAllWindows()\n",
    "            cap.release()\n",
    "            break\n",
    "    \n",
    "        continue\n",
    "\n"
   ]
  },
  {
   "cell_type": "code",
   "execution_count": 1,
   "metadata": {},
   "outputs": [
    {
     "data": {
      "text/plain": [
       "2"
      ]
     },
     "execution_count": 1,
     "metadata": {},
     "output_type": "execute_result"
    }
   ],
   "source": [
    "2"
   ]
  },
  {
   "cell_type": "code",
   "execution_count": null,
   "metadata": {},
   "outputs": [],
   "source": []
  }
 ],
 "metadata": {
  "kernelspec": {
   "display_name": "Python 3",
   "language": "python",
   "name": "python3"
  },
  "language_info": {
   "codemirror_mode": {
    "name": "ipython",
    "version": 3
   },
   "file_extension": ".py",
   "mimetype": "text/x-python",
   "name": "python",
   "nbconvert_exporter": "python",
   "pygments_lexer": "ipython3",
   "version": "3.6.6"
  }
 },
 "nbformat": 4,
 "nbformat_minor": 2
}
